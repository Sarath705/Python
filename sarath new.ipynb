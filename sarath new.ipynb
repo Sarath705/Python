{
 "cells": [
  {
   "cell_type": "code",
   "execution_count": 1,
   "id": "8a0fa0b0",
   "metadata": {},
   "outputs": [
    {
     "data": {
      "text/plain": [
       "-6"
      ]
     },
     "execution_count": 1,
     "metadata": {},
     "output_type": "execute_result"
    }
   ],
   "source": [
    "#arithmetic operation:\n",
    "#Subtraction\n",
    "x=2\n",
    "y=8\n",
    "x-y"
   ]
  },
  {
   "cell_type": "code",
   "execution_count": 2,
   "id": "ab79d9b8",
   "metadata": {},
   "outputs": [
    {
     "data": {
      "text/plain": [
       "19"
      ]
     },
     "execution_count": 2,
     "metadata": {},
     "output_type": "execute_result"
    }
   ],
   "source": [
    "#adition\n",
    "x=9\n",
    "y=10\n",
    "x+y"
   ]
  },
  {
   "cell_type": "code",
   "execution_count": 3,
   "id": "8f5e1c5c",
   "metadata": {},
   "outputs": [
    {
     "data": {
      "text/plain": [
       "1.1111111111111112"
      ]
     },
     "execution_count": 3,
     "metadata": {},
     "output_type": "execute_result"
    }
   ],
   "source": [
    "#division\n",
    "x=20\n",
    "y=18\n",
    "x/y   "
   ]
  },
  {
   "cell_type": "code",
   "execution_count": 4,
   "id": "efdbe44f",
   "metadata": {},
   "outputs": [
    {
     "name": "stdout",
     "output_type": "stream",
     "text": [
      "6\n"
     ]
    }
   ],
   "source": [
    "#multiplication\n",
    "x = 2\n",
    "y = 3\n",
    "get= x * y\n",
    "print(get)"
   ]
  },
  {
   "cell_type": "code",
   "execution_count": 5,
   "id": "d10823a9",
   "metadata": {},
   "outputs": [
    {
     "name": "stdout",
     "output_type": "stream",
     "text": [
      "8\n"
     ]
    }
   ],
   "source": [
    "#Exponent\n",
    "x=2\n",
    "y = 3\n",
    "get= x ** y\n",
    "print(get)"
   ]
  },
  {
   "cell_type": "code",
   "execution_count": 6,
   "id": "2e0d1022",
   "metadata": {},
   "outputs": [
    {
     "name": "stdout",
     "output_type": "stream",
     "text": [
      "2\n"
     ]
    }
   ],
   "source": [
    "#modulous:\n",
    "x=2\n",
    "y = 3\n",
    "get= x % y\n",
    "print(get)"
   ]
  },
  {
   "cell_type": "code",
   "execution_count": 7,
   "id": "faa0970c",
   "metadata": {},
   "outputs": [
    {
     "name": "stdout",
     "output_type": "stream",
     "text": [
      "0\n"
     ]
    }
   ],
   "source": [
    "#floor division\n",
    "x=2\n",
    "y = 3\n",
    "get= x // y\n",
    "print(get)\n"
   ]
  },
  {
   "cell_type": "code",
   "execution_count": 8,
   "id": "a5f2fc1a",
   "metadata": {},
   "outputs": [
    {
     "name": "stdout",
     "output_type": "stream",
     "text": [
      "True\n"
     ]
    }
   ],
   "source": [
    "#Relational operators:\n",
    "#relational-!=,<=,>=, ==\n",
    "a = 9\n",
    "b = 5\n",
    "print(a > b)\n"
   ]
  },
  {
   "cell_type": "code",
   "execution_count": 9,
   "id": "25295389",
   "metadata": {},
   "outputs": [
    {
     "name": "stdout",
     "output_type": "stream",
     "text": [
      "False\n"
     ]
    }
   ],
   "source": [
    "a = 9\n",
    "b = 5\n",
    "print(a < b)"
   ]
  },
  {
   "cell_type": "code",
   "execution_count": 10,
   "id": "33f77b22",
   "metadata": {},
   "outputs": [
    {
     "name": "stdout",
     "output_type": "stream",
     "text": [
      "False\n"
     ]
    }
   ],
   "source": [
    "a = 9\n",
    "b = 5\n",
    "print(a == b)"
   ]
  },
  {
   "cell_type": "code",
   "execution_count": 11,
   "id": "719efd83",
   "metadata": {},
   "outputs": [
    {
     "name": "stdout",
     "output_type": "stream",
     "text": [
      "True\n"
     ]
    }
   ],
   "source": [
    "a = 9\n",
    "b = 5\n",
    "print(a != b)"
   ]
  },
  {
   "cell_type": "code",
   "execution_count": 12,
   "id": "68410eb2",
   "metadata": {},
   "outputs": [
    {
     "name": "stdout",
     "output_type": "stream",
     "text": [
      "True\n"
     ]
    }
   ],
   "source": [
    "a = 9\n",
    "b = 5\n",
    "print(a >= b)"
   ]
  },
  {
   "cell_type": "code",
   "execution_count": 13,
   "id": "7b27c190",
   "metadata": {},
   "outputs": [
    {
     "name": "stdout",
     "output_type": "stream",
     "text": [
      "False\n"
     ]
    }
   ],
   "source": [
    "a = 9\n",
    "b = 5\n",
    "print(a <= b)"
   ]
  },
  {
   "cell_type": "code",
   "execution_count": 15,
   "id": "3645301f",
   "metadata": {},
   "outputs": [
    {
     "name": "stdout",
     "output_type": "stream",
     "text": [
      "a & b = 0\n",
      "a | b = 14\n",
      "~a = -11\n",
      "a ^ b = 14\n"
     ]
    }
   ],
   "source": [
    "#Bitwise operator:\n",
    "#bitwise-<<,>>,&, |,^,~\n",
    "\n",
    "a = 10 \n",
    "b = 4\n",
    " \n",
    "#  AND operation\n",
    "\n",
    "print(\"a & b =\", a & b)\n",
    " \n",
    "#  OR operation\n",
    "\n",
    "print(\"a | b =\", a | b)\n",
    " \n",
    "# NOT operation\n",
    "\n",
    "print(\"~a =\", ~a)\n",
    " \n",
    "# print bitwise XOR operation\n",
    "\n",
    "print(\"a ^ b =\", a ^ b)"
   ]
  },
  {
   "cell_type": "code",
   "execution_count": 20,
   "id": "f9c9b5e6",
   "metadata": {},
   "outputs": [
    {
     "name": "stdout",
     "output_type": "stream",
     "text": [
      "item is not overlapping\n",
      "item is not overlapping\n",
      "item is not overlapping\n",
      "item is not overlapping\n",
      "item is not overlapping\n"
     ]
    }
   ],
   "source": [
    " #Membership operator:\n",
    "# Python program to illustrate\n",
    "# Finding common member in list\n",
    "# using 'in' operator\n",
    "list1 = [1, 2, 3, 4, 5]\n",
    "list2 = [6, 7, 8, 9]\n",
    "for item in list1:\n",
    "    if item in list2:\n",
    "     print(\"item is overlapping\")\n",
    "    else:\n",
    "     print(\"item is not overlapping\")"
   ]
  },
  {
   "cell_type": "code",
   "execution_count": 27,
   "id": "1b6139e6",
   "metadata": {},
   "outputs": [
    {
     "name": "stdout",
     "output_type": "stream",
     "text": [
      "item is overlapping\n",
      "item is overlapping\n",
      "item is overlapping\n",
      "item is overlapping\n",
      "item is overlapping\n"
     ]
    }
   ],
   "source": [
    "# using 'not in' operator\n",
    "list1 = [1, 2, 3, 4, 5]\n",
    "list2 = [6, 7, 8, 9]\n",
    "for item in list1:\n",
    "    if item not in list2:\n",
    "      print(\"item is overlapping\")\n",
    "    else:\n",
    "      print(\"item is not overlapping\")"
   ]
  },
  {
   "cell_type": "code",
   "execution_count": 28,
   "id": "3c88b8d0",
   "metadata": {},
   "outputs": [
    {
     "name": "stdout",
     "output_type": "stream",
     "text": [
      "True\n"
     ]
    }
   ],
   "source": [
    "#identity operator:\n",
    "#using is perator\n",
    "# Python program to illustrate the use of 'is' identity operator\n",
    "x = 5\n",
    "y = 5\n",
    "print(x is y)\n"
   ]
  },
  {
   "cell_type": "code",
   "execution_count": 29,
   "id": "947d6fe0",
   "metadata": {},
   "outputs": [
    {
     "name": "stdout",
     "output_type": "stream",
     "text": [
      "False\n"
     ]
    }
   ],
   "source": [
    "x = 5\n",
    "y = 5\n",
    "print(x is not y)"
   ]
  },
  {
   "cell_type": "code",
   "execution_count": 30,
   "id": "7b32a762",
   "metadata": {},
   "outputs": [
    {
     "name": "stdout",
     "output_type": "stream",
     "text": [
      "False\n"
     ]
    }
   ],
   "source": [
    "x = 5\n",
    "y = 5\n",
    "print(x != y)"
   ]
  }
 ],
 "metadata": {
  "kernelspec": {
   "display_name": "Python 3 (ipykernel)",
   "language": "python",
   "name": "python3"
  },
  "language_info": {
   "codemirror_mode": {
    "name": "ipython",
    "version": 3
   },
   "file_extension": ".py",
   "mimetype": "text/x-python",
   "name": "python",
   "nbconvert_exporter": "python",
   "pygments_lexer": "ipython3",
   "version": "3.10.9"
  }
 },
 "nbformat": 4,
 "nbformat_minor": 5
}
